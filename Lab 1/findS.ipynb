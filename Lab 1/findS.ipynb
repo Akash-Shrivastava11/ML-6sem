{
 "cells": [
  {
   "cell_type": "code",
   "execution_count": 8,
   "metadata": {},
   "outputs": [],
   "source": [
    "import pandas as pd\n",
    "import numpy as np\n",
    "import csv"
   ]
  },
  {
   "cell_type": "code",
   "execution_count": 17,
   "metadata": {},
   "outputs": [
    {
     "name": "stdout",
     "output_type": "stream",
     "text": [
      "[['Morning', 'Sunny', 'Warm', 'Yes', 'Mild', 'Strong', 'Yes']]\n",
      "[['Morning', 'Sunny', 'Warm', 'Yes', 'Mild', 'Strong', 'Yes'], ['Evening', 'Rainy', 'Cold', 'No', 'Mild', 'Normal', 'No']]\n",
      "[['Morning', 'Sunny', 'Warm', 'Yes', 'Mild', 'Strong', 'Yes'], ['Evening', 'Rainy', 'Cold', 'No', 'Mild', 'Normal', 'No'], ['Morning', 'Sunny', 'Moderate', 'Yes', 'Normal', 'Normal', 'Yes']]\n",
      "[['Morning', 'Sunny', 'Warm', 'Yes', 'Mild', 'Strong', 'Yes'], ['Evening', 'Rainy', 'Cold', 'No', 'Mild', 'Normal', 'No'], ['Morning', 'Sunny', 'Moderate', 'Yes', 'Normal', 'Normal', 'Yes'], ['Evening', 'Sunny', 'Cold', 'Yes', 'High', 'Strong', 'Yes']]\n",
      "Total number of training example are:  4\n",
      "\n",
      "Initial hypothesis is: \n",
      "['0', '0', '0', '0', '0', '0']\n",
      "\n",
      " The hypothesis for training instance 1 is :\n",
      " \n",
      "['Morning', 'Sunny', 'Warm', 'Yes', 'Mild', 'Strong']\n",
      "\n",
      " The hypothesis for training instance 2 is :\n",
      " \n",
      "['Morning', 'Sunny', 'Warm', 'Yes', 'Mild', 'Strong']\n",
      "\n",
      " The hypothesis for training instance 3 is :\n",
      " \n",
      "['Morning', 'Sunny', '?', 'Yes', '?', '?']\n",
      "\n",
      " The hypothesis for training instance 4 is :\n",
      " \n",
      "['?', 'Sunny', '?', 'Yes', '?', '?']\n"
     ]
    }
   ],
   "source": [
    "a=[]\n",
    "with open('data.csv','r') as csvfile:\n",
    "    for row in csv.reader(csvfile):\n",
    "        a.append(row)\n",
    "        print(a)\n",
    "    print(\"Total number of training example are: \", len(a))\n",
    "num_attribute=len(a[0])-1\n",
    "print('\\nInitial hypothesis is: ')\n",
    "hypothesis=['0']*num_attribute\n",
    "print(hypothesis)\n",
    "for i in range(0,len(a)):\n",
    "    if a[i][num_attribute]=='Yes':\n",
    "        for j in range (0,num_attribute):\n",
    "            if hypothesis[j]=='0' or hypothesis[j]==a[i][j]:\n",
    "                hypothesis[j]=a[i][j]\n",
    "            else:\n",
    "                hypothesis[j]='?'\n",
    "    print((\"\\n The hypothesis for training instance {} is :\\n \").format(i+1,hypothesis))          \n",
    "    print(hypothesis)"
   ]
  },
  {
   "cell_type": "code",
   "execution_count": null,
   "metadata": {},
   "outputs": [],
   "source": []
  },
  {
   "cell_type": "code",
   "execution_count": null,
   "metadata": {},
   "outputs": [],
   "source": []
  },
  {
   "cell_type": "code",
   "execution_count": null,
   "metadata": {},
   "outputs": [],
   "source": []
  }
 ],
 "metadata": {
  "kernelspec": {
   "display_name": "Python 3",
   "language": "python",
   "name": "python3"
  },
  "language_info": {
   "codemirror_mode": {
    "name": "ipython",
    "version": 3
   },
   "file_extension": ".py",
   "mimetype": "text/x-python",
   "name": "python",
   "nbconvert_exporter": "python",
   "pygments_lexer": "ipython3",
   "version": "3.7.3"
  }
 },
 "nbformat": 4,
 "nbformat_minor": 2
}
